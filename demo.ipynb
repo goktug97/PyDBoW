{
 "cells": [
  {
   "cell_type": "markdown",
   "metadata": {
    "collapsed": false
   },
   "source": [
    "Bag of Binary Words"
   ]
  },
  {
   "cell_type": "code",
   "execution_count": 36,
   "metadata": {
    "collapsed": false
   },
   "outputs": [],
   "source": [
    "import glob\n",
    "import random\n",
    "random.seed(123123)"
   ]
  },
  {
   "cell_type": "code",
   "execution_count": 37,
   "metadata": {
    "collapsed": false
   },
   "outputs": [],
   "source": [
    "import cv2\n",
    "import numpy as np\n"
   ]
  },
  {
   "cell_type": "code",
   "execution_count": 38,
   "metadata": {
    "collapsed": false
   },
   "outputs": [],
   "source": [
    "import dbow\n"
   ]
  },
  {
   "cell_type": "code",
   "execution_count": 39,
   "metadata": {
    "collapsed": false
   },
   "outputs": [],
   "source": [
    "# Load Images\n",
    "images_path = glob.glob('./images/*.png')\n",
    "images = []\n",
    "for image_path in images_path:\n",
    "    images.append(cv2.imread(image_path))\n"
   ]
  },
  {
   "cell_type": "code",
   "execution_count": 40,
   "metadata": {
    "collapsed": false
   },
   "outputs": [],
   "source": [
    "# Create Vocabulary\n",
    "n_clusters = 10\n",
    "depth = 2\n",
    "vocabulary = dbow.Vocabulary(images, n_clusters, depth)\n"
   ]
  },
  {
   "cell_type": "code",
   "execution_count": 41,
   "metadata": {
    "collapsed": false
   },
   "outputs": [],
   "source": [
    "orb = cv2.ORB_create()\n"
   ]
  },
  {
   "cell_type": "code",
   "execution_count": 42,
   "metadata": {
    "collapsed": false
   },
   "outputs": [
    {
     "name": "stdout",
     "output_type": "stream",
     "text": [
      "Similarity between Image 0 and Image 0 = 1.0\n",
      "Similarity between Image 0 and Image 1 = 0.7164073555028767\n",
      "Similarity between Image 0 and Image 2 = 0.5579603609712325\n",
      "Similarity between Image 0 and Image 3 = 0.49411308656281794\n",
      "\n",
      "\n",
      "Similarity between Image 1 and Image 0 = 0.7164073555028767\n",
      "Similarity between Image 1 and Image 1 = 1.0\n",
      "Similarity between Image 1 and Image 2 = 0.437246127028442\n",
      "Similarity between Image 1 and Image 3 = 0.3871140542647854\n",
      "\n",
      "\n",
      "Similarity between Image 2 and Image 0 = 0.5579603609712325\n",
      "Similarity between Image 2 and Image 1 = 0.437246127028442\n",
      "Similarity between Image 2 and Image 2 = 1.0\n",
      "Similarity between Image 2 and Image 3 = 0.5251429384400262\n",
      "\n",
      "\n",
      "Similarity between Image 3 and Image 0 = 0.49411308656281794\n",
      "Similarity between Image 3 and Image 1 = 0.3871140542647854\n",
      "Similarity between Image 3 and Image 2 = 0.5251429384400262\n",
      "Similarity between Image 3 and Image 3 = 1.0\n",
      "\n",
      "\n"
     ]
    }
   ],
   "source": [
    "# Convert images to Bag of Binary Words and calculate scores between them\n",
    "bows = []\n",
    "for image in images:\n",
    "    kps, descs = orb.detectAndCompute(image, None)\n",
    "    descs = [dbow.ORB.from_cv_descriptor(desc) for desc in descs]\n",
    "    bows.append(vocabulary.descs_to_bow(descs))\n",
    "\n",
    "for i in range(len(bows)):\n",
    "    for j in range(len(bows)):\n",
    "        print(f'Similarity between Image {i} and Image {j} = {bows[i].score(bows[j])}')\n",
    "    print('\\n')\n"
   ]
  },
  {
   "cell_type": "code",
   "execution_count": 43,
   "metadata": {
    "collapsed": false
   },
   "outputs": [],
   "source": [
    "# Create a database\n",
    "db = dbow.Database(vocabulary)\n",
    "for image in images:\n",
    "    kps, descs = orb.detectAndCompute(image, None)\n",
    "    descs = [dbow.ORB.from_cv_descriptor(desc) for desc in descs]\n",
    "    db.add(descs)\n"
   ]
  },
  {
   "cell_type": "code",
   "execution_count": 44,
   "metadata": {
    "collapsed": false
   },
   "outputs": [],
   "source": [
    "# Query the database\n",
    "for image in images:\n",
    "    kps, descs = orb.detectAndCompute(image, None)\n",
    "    descs = [dbow.ORB.from_cv_descriptor(desc) for desc in descs]\n",
    "    scores = db.query(descs)\n",
    "    match_bow = db[np.argmax(scores)]\n",
    "    match_desc = db.descriptors[np.argmax(scores)]\n"
   ]
  },
  {
   "cell_type": "code",
   "execution_count": 45,
   "metadata": {
    "collapsed": false
   },
   "outputs": [],
   "source": [
    "# Saving and Loading the vocabulary\n",
    "vocabulary.save('vocabulary.pickle')\n",
    "loaded_vocabulary = vocabulary.load('vocabulary.pickle')\n",
    "for image in images:\n",
    "    kps, descs = orb.detectAndCompute(image, None)\n",
    "    descs = [dbow.ORB.from_cv_descriptor(desc) for desc in descs]\n",
    "    loaded_vocabulary.descs_to_bow(descs)\n",
    "    "
   ]
  },
  {
   "cell_type": "code",
   "execution_count": null,
   "metadata": {
    "collapsed": false
   },
   "outputs": [],
   "source": [
    "# Saving and Loading the database\n",
    "db.save('database.pickle')\n",
    "loaded_db = db.load('database.pickle')\n",
    "for image in images:\n",
    "    kps, descs = orb.detectAndCompute(image, None)\n",
    "    descs = [dbow.ORB.from_cv_descriptor(desc) for desc in descs]\n",
    "    scores = loaded_db.query(descs)\n",
    "    print(loaded_db[np.argmax(scores)], np.argmax(scores))"
   ]
  }
 ],
 "metadata": {
  "kernelspec": {
   "argv": [
    "/usr/bin/python3",
    "-m",
    "ipykernel_launcher",
    "-f",
    "{connection_file}"
   ],
   "display_name": "Python 3",
   "env": null,
   "interrupt_mode": "signal",
   "language": "python",
   "metadata": null,
   "name": "python3"
  },
  "name": "demo.ipynb"
 },
 "nbformat": 4,
 "nbformat_minor": 2
}
